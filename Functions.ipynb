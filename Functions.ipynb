{
 "cells": [
  {
   "cell_type": "code",
   "execution_count": 1,
   "metadata": {},
   "outputs": [],
   "source": [
    "%load_ext autoreload\n",
    "%autoreload 2"
   ]
  },
  {
   "cell_type": "code",
   "execution_count": 2,
   "metadata": {},
   "outputs": [],
   "source": [
    "def align_figures():\n",
    "    import matplotlib\n",
    "    from matplotlib._pylab_helpers import Gcf\n",
    "    from IPython.display import display_html\n",
    "    import base64\n",
    "    from ipykernel.pylab.backend_inline import show\n",
    "\n",
    "    images = []\n",
    "    for figure_manager in Gcf.get_all_fig_managers():\n",
    "        fig = figure_manager.canvas.figure\n",
    "        png = get_ipython().display_formatter.format(fig)[0]['image/png']\n",
    "        src = base64.encodestring(png).decode()\n",
    "        images.append('<img style=\"margin:0\" align=\"left\" src=\"data:image/png;base64,{}\"/>'.format(src))\n",
    "\n",
    "    html = \"{}\".format(\"\".join(images))\n",
    "    show._draw_called = False\n",
    "    matplotlib.pyplot.close('all')\n",
    "    display_html(html, raw=True)"
   ]
  },
  {
   "cell_type": "code",
   "execution_count": 3,
   "metadata": {},
   "outputs": [
    {
     "name": "stdout",
     "output_type": "stream",
     "text": [
      "[NbConvertApp] Converting notebook Functions.ipynb to python\n",
      "[NbConvertApp] Writing 1063 bytes to Functions.py\n"
     ]
    }
   ],
   "source": [
    "if __name__=='__main__':\n",
    "    try:    \n",
    "        !jupyter nbconvert --to python Functions.ipynb\n",
    "        # python即转化为.py，script即转化为.html\n",
    "        # file_name.ipynb即当前module的文件名\n",
    "    except:\n",
    "        pass"
   ]
  }
 ],
 "metadata": {
  "kernelspec": {
   "display_name": "Python 3",
   "language": "python",
   "name": "python3"
  },
  "language_info": {
   "codemirror_mode": {
    "name": "ipython",
    "version": 3
   },
   "file_extension": ".py",
   "mimetype": "text/x-python",
   "name": "python",
   "nbconvert_exporter": "python",
   "pygments_lexer": "ipython3",
   "version": "3.6.7"
  }
 },
 "nbformat": 4,
 "nbformat_minor": 2
}
